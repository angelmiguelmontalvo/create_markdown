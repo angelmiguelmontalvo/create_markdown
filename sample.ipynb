{
  "nbformat": 4,
  "nbformat_minor": 0,
  "metadata": {
    "colab": {
      "name": "Untitled0.ipynb",
      "provenance": [],
      "collapsed_sections": [],
      "authorship_tag": "ABX9TyOiXK3WUd3c2MM8iFwrns96",
      "include_colab_link": true
    },
    "kernelspec": {
      "name": "python3",
      "display_name": "Python 3"
    },
    "language_info": {
      "name": "python"
    }
  },
  "cells": [
    {
      "cell_type": "markdown",
      "metadata": {
        "id": "view-in-github",
        "colab_type": "text"
      },
      "source": [
        "<a href=\"https://colab.research.google.com/github/angelmiguelmontalvo/create_markdown/blob/main/sample.ipynb\" target=\"_parent\"><img src=\"https://colab.research.google.com/assets/colab-badge.svg\" alt=\"Open In Colab\"/></a>"
      ]
    },
    {
      "cell_type": "code",
      "metadata": {
        "colab": {
          "base_uri": "https://localhost:8080/"
        },
        "id": "ud6PIWHK3dGT",
        "outputId": "e8639ba3-611c-43dc-afad-e73b0782fd0b"
      },
      "source": [
        "print(\"hello world\")"
      ],
      "execution_count": null,
      "outputs": [
        {
          "output_type": "stream",
          "name": "stdout",
          "text": [
            "hello world\n"
          ]
        }
      ]
    },
    {
      "cell_type": "markdown",
      "metadata": {
        "id": "XY68UHc03lTC"
      },
      "source": [
        "# My first notebook\n",
        "\n",
        "## This is a sub title\n",
        "*In this section an image is uploaded*\n",
        "\n",
        "\n",
        "And **this example shows a list**, tools required for this course.\n",
        "* [x][Github](https://github.com/) for code management.\n",
        "* [x][Python](https://www.python.org/) as a programing language.\n",
        "* [x][Markdown](https://guides.github.com/features/mastering-markdown/) language for technical documentation.\n",
        "* [x][Trello](https://www.google.com/aclk?sa=l&ai=DChcSEwjhqMO-rr7zAhWCroYKHe2CAC8YABABGgJ2dQ&sig=AOD64_1tfhLDY6z94kkfPKt5pdSXDGrWgw&q&adurl&ved=2ahUKEwi7gLq-rr7zAhWslJUCHfrNDb0Q0Qx6BAgCEAE) for task management.\n",
        "\n",
        "*This is an example of inline code*\n",
        "```\n",
        "function add(a=0, b=0) {\n",
        "  return a + b;\n",
        "}\n",
        "```\n",
        "\n",
        "_This is an example for a table_\n",
        "\n",
        "Header 1 | Header 2\n",
        "---------|---------\n",
        "Cell 1 content | Cell 2 content\n",
        "Column 1 content | Column 2 content\n",
        "\n",
        "\n",
        "This example was written by @angelmiguelmontalvo\n",
        "\n",
        "[code](https://github.com/angelmiguelmontalvo/create_markdown)"
      ]
    }
  ]
}